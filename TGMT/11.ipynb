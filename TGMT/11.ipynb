{
 "cells": [
  {
   "cell_type": "code",
   "execution_count": 1,
   "id": "42c17c21-609c-4544-8ed6-94cceff46b94",
   "metadata": {},
   "outputs": [
    {
     "name": "stdout",
     "output_type": "stream",
     "text": [
      "[1 2 3]\n",
      "2\n"
     ]
    }
   ],
   "source": [
    "import numpy as np\n",
    "\n",
    "# Tạo mảng\n",
    "a = np.array([1,2,3])\n",
    "\n",
    "# In mảng\n",
    "print(a)\n",
    "\n",
    "# In ra 1 phần tử\n",
    "element = a[1]\n",
    "print(element)"
   ]
  },
  {
   "cell_type": "code",
   "execution_count": 2,
   "id": "e97d7434-705c-4dd8-9e08-546945a6a310",
   "metadata": {},
   "outputs": [
    {
     "name": "stdout",
     "output_type": "stream",
     "text": [
      "Matrix:\n",
      "[[1 2 3]\n",
      " [4 5 6]\n",
      " [7 8 9]]\n",
      "6\n"
     ]
    }
   ],
   "source": [
    "# Tạo mảng 2 chiều\n",
    "matrix = np.array([[1, 2, 3], [4, 5, 6], [7, 8, 9]])\n",
    "print(\"Matrix:\")\n",
    "print(matrix)\n",
    "\n",
    "# In một phần tử\n",
    "element = matrix[1, 2]\n",
    "print(element)"
   ]
  },
  {
   "cell_type": "code",
   "execution_count": 3,
   "id": "043b19f4-8d23-4279-a3ab-98e6349310fe",
   "metadata": {},
   "outputs": [
    {
     "name": "stdout",
     "output_type": "stream",
     "text": [
      "[0. 0. 0. 0. 0.]\n",
      "[1. 1. 1. 1. 1.]\n",
      "[1. 1. 1. 1. 1.]\n",
      "[ 0  1  2  3  4  5  6  7  8  9 10 11 12 13 14 15 16 17 18 19 20 21 22 23\n",
      " 24 25 26 27 28 29 30 31 32 33 34 35 36 37 38 39 40 41 42 43 44 45 46 47\n",
      " 48 49 50 51 52 53 54 55 56 57 58 59 60 61 62 63 64 65 66 67 68 69 70 71\n",
      " 72 73 74 75 76 77 78 79 80 81 82 83 84 85 86 87 88 89 90 91 92 93 94 95\n",
      " 96 97 98 99]\n",
      "[ 0.   2.5  5.   7.5 10. ]\n"
     ]
    },
    {
     "data": {
      "text/plain": [
       "array([1, 1, 1, 1, 1], dtype=int64)"
      ]
     },
     "execution_count": 3,
     "metadata": {},
     "output_type": "execute_result"
    }
   ],
   "source": [
    "# Cách tạo mảng\n",
    "# Tạo mảng toàn là số 0\n",
    "a = np.zeros(5)\n",
    "print(a)\n",
    "\n",
    "# Tạo mảng toàn là số 1\n",
    "a = np.ones(5)\n",
    "print(a)\n",
    "\n",
    "# Tạo mảng\n",
    "a = np.empty(5)\n",
    "print(a)\n",
    "\n",
    "# Tạo mảng từ 0 đến 100\n",
    "a = np.arange(100)\n",
    "print(a)\n",
    "\n",
    "# Tạo mảng gồm các phần tử với khoảng cách đều nhau\n",
    "a = np.linspace(0, 10, num=5)\n",
    "print(a)\n",
    "\n",
    "\n",
    "# Xác định kiểu dữ liệu\n",
    "a = np.ones(5, dtype=np.int64)\n",
    "a"
   ]
  },
  {
   "cell_type": "code",
   "execution_count": 4,
   "id": "135f2bdd-e298-4e6e-b34d-ff5b94351aa8",
   "metadata": {},
   "outputs": [
    {
     "name": "stdout",
     "output_type": "stream",
     "text": [
      "[3 1 2 4 5]\n",
      "[1 2 3 4 5]\n",
      "[5 4 3 2 1]\n",
      "[  5   4   3   2   1 100]\n",
      "[  5   4   3   1 100]\n"
     ]
    }
   ],
   "source": [
    "# Thêm, xóa, sắp xếp mảng\n",
    "\n",
    "# Tạo mảng ban đầu\n",
    "arr = np.array([3, 1, 2, 4, 5])\n",
    "print(arr)\n",
    "\n",
    "# Sắp xếp\n",
    "arr = np.sort(arr)\n",
    "print(arr)\n",
    "\n",
    "# Sắp xếp ngược\n",
    "arr = np.sort(arr)[::-1]\n",
    "print(arr)\n",
    "\n",
    "# Thêm phần tử vào mảng\n",
    "arr = np.append(arr, 100)\n",
    "print(arr)\n",
    "\n",
    "# Xóa đi một ví trí nào đó trong mảng\n",
    "arr = np.delete(arr, 3)\n",
    "print(arr)\n"
   ]
  },
  {
   "cell_type": "code",
   "execution_count": 5,
   "id": "5443a881-d2a0-43f7-bf68-182db4276e7a",
   "metadata": {},
   "outputs": [
    {
     "name": "stdout",
     "output_type": "stream",
     "text": [
      "[[1 2 3]\n",
      " [4 6 8]\n",
      " [5 7 9]]\n",
      "[[3 1 2]\n",
      " [4 6 5]\n",
      " [9 7 8]]\n"
     ]
    }
   ],
   "source": [
    "# Tạo một mảng 2 chiều\n",
    "arr = np.array([[3, 1, 2],\n",
    "                [4, 6, 8],\n",
    "                [9, 7, 5]])\n",
    "\n",
    "sap_xep_theo_hang = np.sort(arr, axis=1) # tăng dần\n",
    "print(sap_xep_theo_hang)\n",
    "\n",
    "sap_xep_theo_cot = np.sort(arr, axis=0) # tăng dần\n",
    "print(sap_xep_theo_cot)"
   ]
  },
  {
   "cell_type": "code",
   "execution_count": 6,
   "id": "4db420bd-d9c6-42e3-a3fe-6d7b67d9b8d9",
   "metadata": {},
   "outputs": [
    {
     "name": "stdout",
     "output_type": "stream",
     "text": [
      "[[3 2 1]\n",
      " [8 6 4]\n",
      " [9 7 5]]\n",
      "[[9 7 8]\n",
      " [4 6 5]\n",
      " [3 1 2]]\n"
     ]
    }
   ],
   "source": [
    "# Tạo một mảng 2 chiều\n",
    "arr = np.array([[3, 1, 2],\n",
    "                [4, 6, 8],\n",
    "                [9, 7, 5]])\n",
    "\n",
    "sap_xep_theo_hang = -np.sort(-arr, axis=1) # giảm dần\n",
    "print(sap_xep_theo_hang)\n",
    "\n",
    "sap_xep_theo_cot = -np.sort(-arr, axis=0) # giảm dần\n",
    "print(sap_xep_theo_cot)"
   ]
  },
  {
   "cell_type": "code",
   "execution_count": 7,
   "id": "b385595b-d00e-4877-a35c-a1df6a10e7ba",
   "metadata": {},
   "outputs": [
    {
     "name": "stdout",
     "output_type": "stream",
     "text": [
      "Số chiều: 2\n",
      "Kích thước: 6\n",
      "Hình dạng: (2, 3)\n"
     ]
    }
   ],
   "source": [
    "# Tạo một mảng 2D\n",
    "arr = np.array([[1, 2, 3], [4, 5, 6]])\n",
    "\n",
    "# Sử dụng các thuộc tính để lấy thông tin về mảng\n",
    "so_chieu = arr.ndim  # Số chiều (2 chiều)\n",
    "kich_thuoc = arr.size  # Kích thước (tổng số phần tử, 6)\n",
    "hinh_dang = arr.shape  # Hình dạng (số hàng x số cột, (2, 3))\n",
    "\n",
    "print(\"Số chiều:\", so_chieu)\n",
    "print(\"Kích thước:\", kich_thuoc)\n",
    "print(\"Hình dạng:\", hinh_dang)"
   ]
  },
  {
   "cell_type": "code",
   "execution_count": 8,
   "id": "bc6d5719-eefa-4301-81b6-404ab83f2f1e",
   "metadata": {},
   "outputs": [
    {
     "name": "stdout",
     "output_type": "stream",
     "text": [
      "[1. 2. 3. 4. 5.]\n"
     ]
    }
   ],
   "source": [
    "# Chuyển đổi kiểu dữ liệu\n",
    "arr = np.array([1, 2, 3, 4, 5])\n",
    "arr_float = arr.astype(float)\n",
    "print(arr_float)"
   ]
  },
  {
   "cell_type": "code",
   "execution_count": 9,
   "id": "e9441538-67ac-44c4-8a40-2fc6ca2686ba",
   "metadata": {},
   "outputs": [
    {
     "name": "stdout",
     "output_type": "stream",
     "text": [
      "[[1 2 3]\n",
      " [4 5 6]]\n",
      "[[1 2]\n",
      " [3 4]\n",
      " [5 6]]\n"
     ]
    }
   ],
   "source": [
    "# Thay đổi hình dạng của mảng\n",
    "arr = np.array([1, 2, 3, 4, 5, 6])\n",
    "reshaped_arr = arr.reshape(2,3)\n",
    "print(reshaped_arr)\n",
    "reshaped_arr = arr.reshape(3,2)\n",
    "print(reshaped_arr)\n"
   ]
  },
  {
   "cell_type": "code",
   "execution_count": 10,
   "id": "d1dee759-6306-4fdd-bfd3-0237b6cde63e",
   "metadata": {},
   "outputs": [
    {
     "name": "stdout",
     "output_type": "stream",
     "text": [
      "[1 2 3 4 5 6]\n"
     ]
    }
   ],
   "source": [
    "reshaped_arr = reshaped_arr.flatten() # Chuyển thành mảng 1 chiều\n",
    "print(reshaped_arr)"
   ]
  },
  {
   "cell_type": "code",
   "execution_count": 11,
   "id": "8deaf418-2e8f-4606-8abc-cfc0b082d544",
   "metadata": {},
   "outputs": [
    {
     "name": "stdout",
     "output_type": "stream",
     "text": [
      "[2 3 4]\n",
      "[1 2 3 4]\n",
      "[4 5]\n"
     ]
    }
   ],
   "source": [
    "# Cắt lát mảng\n",
    "arr = np.array([1, 2, 3, 4, 5])\n",
    "\n",
    "sub_arr = arr[1:4]  # Cắt từ phần tử thứ 1 đến 4\n",
    "print(sub_arr) # 2 3 4 5\n",
    "\n",
    "sub_arr = arr[:-1]  # 1 2 3 4\n",
    "print(sub_arr)\n",
    "\n",
    "sub_arr = arr[-2:]  # 4 5 \n",
    "print(sub_arr)"
   ]
  },
  {
   "cell_type": "code",
   "execution_count": 12,
   "id": "0d2b5df5-35a2-4cd2-9bcc-6b0710cd5952",
   "metadata": {},
   "outputs": [
    {
     "name": "stdout",
     "output_type": "stream",
     "text": [
      "[[1 2 3]\n",
      " [4 5 6]]\n",
      "[[1 4]\n",
      " [2 5]\n",
      " [3 6]]\n"
     ]
    }
   ],
   "source": [
    "# Chuyển vị mảng\n",
    "arr = np.array([[1, 2, 3], [4, 5, 6]])\n",
    "print(arr)\n",
    "# Để chuyển vị mảng, chúng ta có thể sử dụng .T hoặc hàm numpy.transpose().\n",
    "transposed_arr = arr.T\n",
    "print(transposed_arr)"
   ]
  },
  {
   "cell_type": "code",
   "execution_count": 13,
   "id": "28776bea-77d1-4a93-bfbe-82863bc17996",
   "metadata": {},
   "outputs": [
    {
     "name": "stdout",
     "output_type": "stream",
     "text": [
      "[1 2 3 4 5 6]\n"
     ]
    }
   ],
   "source": [
    "# Nối mảng\n",
    "arr1 = np.array([1, 2, 3])\n",
    "arr2 = np.array([4, 5, 6])\n",
    "arr = np.concatenate((arr1, arr2))\n",
    "print(arr)"
   ]
  },
  {
   "cell_type": "code",
   "execution_count": 14,
   "id": "10384a95-380b-4343-a6ab-c5ec543675b0",
   "metadata": {},
   "outputs": [
    {
     "name": "stdout",
     "output_type": "stream",
     "text": [
      "Tổng của mảng arr: 15\n",
      "Giá trị trung bình của mảng arr: 3.0\n",
      "Giá trị lớn nhất trong mảng arr: 5\n",
      "Giá trị nhỏ nhất trong mảng arr: 1\n",
      "Độ lệch chuẩn của mảng arr: 1.4142135623730951\n",
      "Phương sai của mảng arr: 2.0\n",
      "Tổng tích chập của arr1 và arr2: 32\n"
     ]
    }
   ],
   "source": [
    "# II. Hàm tính tổng (Sum)\n",
    "# - Hàm numpy.sum() cho phép tính tổng các phần tử trong mảng.\n",
    "arr = np.array([1, 2, 3, 4, 5])\n",
    "total = np.sum(arr)\n",
    "print(\"Tổng của mảng arr:\", total)\n",
    "\n",
    "# III. Hàm tính trung bình (Mean)\n",
    "# - Hàm numpy.mean() tính giá trị trung bình của các phần tử trong mảng.\n",
    "average = np.mean(arr)\n",
    "print(\"Giá trị trung bình của mảng arr:\", average)\n",
    "\n",
    "# IV. Hàm tìm giá trị lớn nhất và nhỏ nhất (Max và Min)\n",
    "# - Hàm numpy.max() và numpy.min() dùng để tìm giá trị lớn nhất và nhỏ nhất trong mảng.\n",
    "max_value = np.max(arr)\n",
    "min_value = np.min(arr)\n",
    "print(\"Giá trị lớn nhất trong mảng arr:\", max_value)\n",
    "print(\"Giá trị nhỏ nhất trong mảng arr:\", min_value)\n",
    "\n",
    "# V. Hàm tính độ lệch chuẩn (Standard Deviation)\n",
    "# - Hàm numpy.std() tính độ lệch chuẩn của mảng, đo lường mức độ phân tán của dữ liệu.\n",
    "std_deviation = np.std(arr)\n",
    "print(\"Độ lệch chuẩn của mảng arr:\", std_deviation)\n",
    "\n",
    "# VI. Hàm tính phương sai (Variance)\n",
    "# - Hàm numpy.var() tính phương sai của mảng, đo lường mức độ biến thiên của dữ liệu.\n",
    "variance = np.var(arr)\n",
    "print(\"Phương sai của mảng arr:\", variance)\n",
    "\n",
    "# VII. Hàm tính tổng tích chập (Dot Product)\n",
    "# - Hàm numpy.dot() tính tổng tích chập của hai mảng (vector).\n",
    "arr1 = np.array([1, 2, 3])\n",
    "arr2 = np.array([4, 5, 6])\n",
    "dot_product = np.dot(arr1, arr2)\n",
    "print(\"Tổng tích chập của arr1 và arr2:\", dot_product)"
   ]
  },
  {
   "cell_type": "code",
   "execution_count": null,
   "id": "ff8cb91f-b93f-4eae-9709-d5976ed92d01",
   "metadata": {},
   "outputs": [],
   "source": []
  }
 ],
 "metadata": {
  "kernelspec": {
   "display_name": "Python 3 (ipykernel)",
   "language": "python",
   "name": "python3"
  },
  "language_info": {
   "codemirror_mode": {
    "name": "ipython",
    "version": 3
   },
   "file_extension": ".py",
   "mimetype": "text/x-python",
   "name": "python",
   "nbconvert_exporter": "python",
   "pygments_lexer": "ipython3",
   "version": "3.12.4"
  }
 },
 "nbformat": 4,
 "nbformat_minor": 5
}
