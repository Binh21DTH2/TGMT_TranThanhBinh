{
 "cells": [
  {
   "cell_type": "code",
   "execution_count": 7,
   "id": "209e78b0-be01-42c4-8159-362974faeeb4",
   "metadata": {},
   "outputs": [],
   "source": [
    "import numpy as np\n",
    "from PIL import Image\n",
    "\n",
    "def average_images(image_list):\n",
    "    total_array = np.array(Image.open(image_list[0]), 'f')\n",
    "    count=1\n",
    "\n",
    "    for image_path in image_list[1:]:\n",
    "        try:\n",
    "            image_array = np.array(Image.open(image_path), 'f')\n",
    "            total_array += image_array\n",
    "            count=count+1\n",
    "        except:\n",
    "            print(\"Skip \", image_path);\n",
    "\n",
    "    # Tính trung bình\n",
    "    average_array = total_array / count\n",
    "\n",
    "    # Chuyển đổi kết quả trung bình thành hình ảnh\n",
    "    average_image = Image.fromarray(average_array.astype('uint8'))\n",
    "\n",
    "    return average_image\n",
    "    my_path_1 = 'C:/Users/hello/Documents/img/img_avg_01.jpg'\n",
    "    my_path_2 = 'C:/Users/hello/Documents/img/img_avg_02.jpg'\n",
    "    image_list = [my_path_1, my_path_2]\n",
    "    result_image = average_images(image_list)\n",
    "    display(result_image)"
   ]
  },
  {
   "cell_type": "code",
   "execution_count": null,
   "id": "ac3b55d0-08d8-499b-b482-6cab086cb78e",
   "metadata": {},
   "outputs": [],
   "source": []
  }
 ],
 "metadata": {
  "kernelspec": {
   "display_name": "Python 3 (ipykernel)",
   "language": "python",
   "name": "python3"
  },
  "language_info": {
   "codemirror_mode": {
    "name": "ipython",
    "version": 3
   },
   "file_extension": ".py",
   "mimetype": "text/x-python",
   "name": "python",
   "nbconvert_exporter": "python",
   "pygments_lexer": "ipython3",
   "version": "3.12.4"
  }
 },
 "nbformat": 4,
 "nbformat_minor": 5
}
